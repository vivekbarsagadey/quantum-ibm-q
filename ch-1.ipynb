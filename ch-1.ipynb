{
 "cells": [
  {
   "cell_type": "code",
   "execution_count": 1,
   "metadata": {
    "collapsed": true
   },
   "outputs": [],
   "source": [
    "import sys\n",
    "import os\n",
    "from pprint import pprint\n",
    "from qiskit import QuantumProgram\n",
    "import Qconfig\n"
   ]
  },
  {
   "cell_type": "code",
   "execution_count": 6,
   "metadata": {},
   "outputs": [],
   "source": [
    "qp = QuantumProgram()\n",
    "qp.set_api('a2c1e632e1d80403ae002b7fde0fb7dfe4afd5a4093292c24c75a65060ed81c16644cf1d7a5b5a4075c08e3530ee8e125d0405b910e73ee79d2441c990145be4', 'https://quantumexperience.ng.bluemix.net/api') # set the APIToken and API url\n"
   ]
  },
  {
   "cell_type": "code",
   "execution_count": 6,
   "metadata": {},
   "outputs": [],
   "source": [
    ""
   ]
  },
  {
   "cell_type": "code",
   "execution_count": 9,
   "metadata": {
    "collapsed": true
   },
   "outputs": [
    {
     "name": "stdout",
     "output_type": "stream",
     "text": [
      "The backends available for use are:\n['ibmqx5',\n 'ibmqx4',\n 'ibmqx_hpc_qasm_simulator',\n 'ibmqx2',\n 'ibmqx_qasm_simulator',\n 'local_qasm_simulator',\n 'local_unitary_simulator']\n"
     ]
    }
   ],
   "source": [
    "print(\"The backends available for use are:\")\n",
    "pprint(qp.available_backends())"
   ]
  },
  {
   "cell_type": "code",
   "execution_count": 8,
   "metadata": {},
   "outputs": [
    {
     "name": "stdout",
     "output_type": "stream",
     "text": [
      "COMPLETED\n{'counts': {'00': 512, '11': 512}}\n"
     ]
    }
   ],
   "source": [
    "backend = 'local_qasm_simulator'\n",
    "try:\n",
    "    # Create a Quantum Register called \"qr\" with 2 qubits.\n",
    "    qr = qp.create_quantum_register(\"qr\", 2)\n",
    "    # Create a Classical Register called \"cr\" with 2 bits.\n",
    "    cr = qp.create_classical_register(\"cr\", 2)\n",
    "    # Create a Quantum Circuit called \"qc\". involving the Quantum Register \"qr\"\n",
    "    # and the Classical Register \"cr\".\n",
    "    qc = qp.create_circuit(\"bell\", [qr], [cr])\n",
    "\n",
    "    # Add the H gate in the Qubit 0, putting this qubit in superposition.\n",
    "    qc.h(qr[0])\n",
    "    # Add the CX gate on control qubit 0 and target qubit 1, putting \n",
    "    # the qubits in a Bell state\n",
    "    qc.cx(qr[0], qr[1])\n",
    "\n",
    "    # Add a Measure gate to see the state.\n",
    "    qc.measure(qr, cr)\n",
    "\n",
    "    # Compile and execute the Quantum Program in the local_qasm_simulator.\n",
    "    result = qp.execute([\"bell\"], backend=backend, shots=1024, seed=1)\n",
    "\n",
    "    # Show the results.\n",
    "    print(result)\n",
    "    print(result.get_data(\"bell\"))\n",
    "\n",
    "except QISKitError as ex:\n",
    "    print('There was an error in the circuit!. Error = {}'.format(ex))\n",
    "except RegisterSizeError as ex:\n",
    "    print('Error in the number of registers!. Error = {}'.format(ex))\n",
    "    "
   ]
  },
  {
   "cell_type": "code",
   "execution_count": null,
   "metadata": {},
   "outputs": [],
   "source": []
  }
 ],
 "metadata": {
  "kernelspec": {
   "display_name": "Python 2",
   "language": "python",
   "name": "python2"
  },
  "language_info": {
   "codemirror_mode": {
    "name": "ipython",
    "version": 2
   },
   "file_extension": ".py",
   "mimetype": "text/x-python",
   "name": "python",
   "nbconvert_exporter": "python",
   "pygments_lexer": "ipython2",
   "version": "2.7.6"
  }
 },
 "nbformat": 4,
 "nbformat_minor": 0
}
